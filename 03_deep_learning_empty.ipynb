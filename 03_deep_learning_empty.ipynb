{
  "nbformat": 4,
  "nbformat_minor": 0,
  "metadata": {
    "colab": {
      "name": "03_deep_learning_empty",
      "version": "0.3.2",
      "provenance": [],
      "include_colab_link": true
    },
    "kernelspec": {
      "name": "python3",
      "display_name": "Python 3"
    },
    "accelerator": "GPU"
  },
  "cells": [
    {
      "cell_type": "markdown",
      "metadata": {
        "id": "view-in-github",
        "colab_type": "text"
      },
      "source": [
        "<a href=\"https://colab.research.google.com/github/danielegrattarola/ml-18-19/blob/master/03_deep_learning_empty.ipynb\" target=\"_parent\"><img src=\"https://colab.research.google.com/assets/colab-badge.svg\" alt=\"Open In Colab\"/></a>"
      ]
    },
    {
      "metadata": {
        "id": "RRuwG7zn_YO_",
        "colab_type": "text"
      },
      "cell_type": "markdown",
      "source": [
        "# Machine Learning\n",
        "\n",
        "Prof. Cesare Alippi  \n",
        "Daniele Grattarola  ([`daniele.grattarola@usi.ch`](mailto:daniele.grattarola@usi.ch)  )    \n",
        "Daniele Zambon ([`daniele.zambon@usi.ch`](mailto:daniele.zambon@usi.ch)  )\n",
        "\n",
        "---\n",
        "# Lab 03: Deep learning\n",
        "\n",
        "In this lab we are going to focus on some practical aspects of building deep neural networks. \n",
        "\n",
        "We will focus on three main tasks: \n",
        "\n",
        "1. Building a **dense** classifier for images of numerical digits;\n",
        "2. Building a **convolutional** classifier for images of numerical digits;\n",
        "3. **Fine-tuning** a deep network to classify images of cats and dogs;\n",
        "\n",
        "We will use TF/Keras throughout this lab, but the same things can be done with little effort in any deep learning frameworks. As usual, we encourage you to try and implement everything on your own from scratch.\n",
        "\n",
        "Let's get started..."
      ]
    },
    {
      "metadata": {
        "id": "30RKBWXz_xAE",
        "colab_type": "text"
      },
      "cell_type": "markdown",
      "source": [
        "## MNIST\n",
        "\n",
        "The **Modified National Institute of Standards and Technology database** is a large collection of handwritten digits that is widely used in machine learning as a benchmark for computer vision algorithms.   \n",
        "The dataset consists of 70000 images of handwritted digits. All images are 28 pixels by 28 pixels, in 8-bit grayscale (i.e., each pixel is represented by an integer value in the 0-255 range), and are equally divided into 10 classes.\n",
        "\n",
        "MNIST is usually considered as a multi-class classification problem, where the goal is to map each image to its corresponding class. \n",
        "\n",
        "Although nowadays MNIST is regarded as solved, machine learning practitioners like to joke that while it's true that if something works on MNIST, it may not work in the real world, it is also true that if it **doesn't** work on MNIST, it will surely not work in the real world.\n",
        "\n",
        "\n",
        "Let's look at the data...\n",
        "\n",
        "\n",
        "\n"
      ]
    },
    {
      "metadata": {
        "id": "trKY2GuMtoBF",
        "colab_type": "code",
        "colab": {}
      },
      "cell_type": "code",
      "source": [
        ""
      ],
      "execution_count": 0,
      "outputs": []
    },
    {
      "metadata": {
        "id": "GOftvishuRlz",
        "colab_type": "text"
      },
      "cell_type": "markdown",
      "source": [
        "## Dense classifier\n",
        "Now let's build a neural network with the tools that we have seen so far, i.e., using only dense layers.\n",
        "\n",
        "We start by pre-processing the images and reshaping them as vectors."
      ]
    },
    {
      "metadata": {
        "id": "IUXGWpOsuueT",
        "colab_type": "code",
        "colab": {}
      },
      "cell_type": "code",
      "source": [
        ""
      ],
      "execution_count": 0,
      "outputs": []
    },
    {
      "metadata": {
        "id": "T-T8mzp9u72X",
        "colab_type": "text"
      },
      "cell_type": "markdown",
      "source": [
        "We also have to pre-process our targets in order to perform multi-class classification. We will use **one-hot encoding** to represent our numerical labels (0-9) as sparse binary vectors. For instance, the one-hot encoding of label 3 will be $[0, 0, 0, 1, 0 ,0 ,0, 0, 0, 0]$."
      ]
    },
    {
      "metadata": {
        "id": "zD-HkP-evib0",
        "colab_type": "code",
        "colab": {}
      },
      "cell_type": "code",
      "source": [
        ""
      ],
      "execution_count": 0,
      "outputs": []
    },
    {
      "metadata": {
        "id": "QfoJd8iKvi2l",
        "colab_type": "text"
      },
      "cell_type": "markdown",
      "source": [
        "Now we build a neural classifier using the same tools that we saw in the previous lab. Remember that we reshaped our inputs to be vectors, so we are in the same familiar setting as always.\n",
        "\n",
        "However, this time we will be dealing with multi-class classification, which means that our output layer will have 10 possible outputs instead of a single one.\n",
        "Moreover, the sigmoid activation function that we used in our previous binary classifiers will be replaced by the normalized **softmax** function, which will give us a **probability distribution** over the possible labels:\n",
        "\n",
        "$$\n",
        "\\sigma(z)_i = \\frac{e^{z_i}}{\\sum_{j=1}^{K} e^{z_j}}\n",
        "$$\n",
        "\n",
        "where $K$ is the number of classes that we have. "
      ]
    },
    {
      "metadata": {
        "id": "iYsaysq4v_mO",
        "colab_type": "code",
        "colab": {}
      },
      "cell_type": "code",
      "source": [
        ""
      ],
      "execution_count": 0,
      "outputs": []
    },
    {
      "metadata": {
        "id": "wz8ikRFXwKn7",
        "colab_type": "text"
      },
      "cell_type": "markdown",
      "source": [
        "We can now train and evaluate the model using Keras' `fit` method. "
      ]
    },
    {
      "metadata": {
        "id": "NUDsIDiRwP_S",
        "colab_type": "code",
        "colab": {}
      },
      "cell_type": "code",
      "source": [
        ""
      ],
      "execution_count": 0,
      "outputs": []
    },
    {
      "metadata": {
        "id": "1xNoK7dVwYWB",
        "colab_type": "text"
      },
      "cell_type": "markdown",
      "source": [
        "So far, so good, right? Everything was in our domain of competence and we were able to build a pretty good classifier.\n",
        "\n",
        "However, we can easily see that our classifier is actually not as good as we think. In particular, we can show that the dense network does not have the property of **translation invariance**, meaning that if we move the content of our images around too much, the classifier quickly fails."
      ]
    },
    {
      "metadata": {
        "id": "sut8Ugzr-XPm",
        "colab_type": "code",
        "colab": {}
      },
      "cell_type": "code",
      "source": [
        ""
      ],
      "execution_count": 0,
      "outputs": []
    },
    {
      "metadata": {
        "id": "Lo0ou80gBDuS",
        "colab_type": "text"
      },
      "cell_type": "markdown",
      "source": [
        "## Convolutional neural networks\n",
        "\n",
        "To solve the issue of translation invariance, one possibility is to adopt **convolutional neural networks** (CNNs) instead of the classical dense ones. \n",
        "\n",
        "CNNs were first introduced by Kunihiko Fukushima in 1980, and were later popularized by Y. LeCun, when he successfully applied backpropagation to train CNNs on MNIST. \n",
        "\n",
        "![alt text](https://upload.wikimedia.org/wikipedia/commons/6/63/Typical_cnn.png)\n",
        "\n",
        "Let's re-build our classifier from scratch, using convolutional layers instead of fully connected ones. "
      ]
    },
    {
      "metadata": {
        "id": "UOD-ivnECrKZ",
        "colab_type": "code",
        "colab": {}
      },
      "cell_type": "code",
      "source": [
        ""
      ],
      "execution_count": 0,
      "outputs": []
    },
    {
      "metadata": {
        "id": "6di-USScCxa6",
        "colab_type": "text"
      },
      "cell_type": "markdown",
      "source": [
        "We still normalize the data to the 0-1 range, but this time we do not reshape the images into vectors. \n",
        "Instead, we add a new dimension which explicitly represents the different channels of our images. In the case of MNIST, we only have one 8-bit channel, so we only need to add a \"fake\" dimension at the of our data in order to have a 4D tensor of shape `(None, 28, 28, 1)`. \n",
        "If we had RGB images, they would be represented as tensors of shape `(None, 28, 28, 3)`.\n",
        "\n",
        "We also one-hot encode the labels as we did before.\n"
      ]
    },
    {
      "metadata": {
        "id": "x0cYp1r-DbzP",
        "colab_type": "code",
        "colab": {}
      },
      "cell_type": "code",
      "source": [
        ""
      ],
      "execution_count": 0,
      "outputs": []
    },
    {
      "metadata": {
        "id": "k9fPRpDhDd0v",
        "colab_type": "text"
      },
      "cell_type": "markdown",
      "source": [
        "So far the only difference from the previous model is the way in which we take the input. Let's see how to build a model that knows how to process these images using convolutional layers. "
      ]
    },
    {
      "metadata": {
        "id": "fFjHVNQwDrhE",
        "colab_type": "code",
        "colab": {}
      },
      "cell_type": "code",
      "source": [
        ""
      ],
      "execution_count": 0,
      "outputs": []
    },
    {
      "metadata": {
        "id": "FUi12s7ID0mU",
        "colab_type": "text"
      },
      "cell_type": "markdown",
      "source": [
        "To train and evaluate the model, we do exactly as we did before."
      ]
    },
    {
      "metadata": {
        "id": "Qeak03BfD86z",
        "colab_type": "code",
        "colab": {}
      },
      "cell_type": "code",
      "source": [
        ""
      ],
      "execution_count": 0,
      "outputs": []
    },
    {
      "metadata": {
        "id": "rKwgS3cZJ85R",
        "colab_type": "text"
      },
      "cell_type": "markdown",
      "source": [
        "Now let's see if the CNN is actually more robust to translations w.r.t. the dense net. We cacn run the same test as before, by shifting images to the right and evaluating the performance on the shifted test set. "
      ]
    },
    {
      "metadata": {
        "id": "1YrDP_R0IlTz",
        "colab_type": "code",
        "colab": {}
      },
      "cell_type": "code",
      "source": [
        ""
      ],
      "execution_count": 0,
      "outputs": []
    },
    {
      "metadata": {
        "id": "UDzxs62EJRoU",
        "colab_type": "text"
      },
      "cell_type": "markdown",
      "source": [
        "## Fine-tuning VGG16\n",
        "\n",
        "![alt text](https://neurohive.io/wp-content/uploads/2018/11/vgg16.png)\n",
        "\n",
        "VGG16 is a 16-layer version of the network used by the VGG team in the ILSVRC-2014 (ImageNet) competition. \n",
        "It was one of the first networks that could be properly defined \"deep\", and it is still used today as a pre-packaged deep architecture for computer vision problems. \n",
        "\n",
        "Due to its large number of layers, VGG16 is extremely expensive to train, and requires several hours of compute time on millions of image samples in order to reach a decent classification performance. \n",
        "\n",
        "However, after the 2014 competition, the VGG team publicly released the **trained weights** of the network, so that people could use it for classifiying images without needing to re-train the whole net.   \n",
        "This also means that, while the whole network can only be used for classifying the original 1000 classes of the ILSVRC competition, the convolutional layers of the network can be used as **general-purpose feature extractors** to represent any natural image as a vector. \n",
        "\n",
        "By taking the output of the last pooling layer (or any other intermediate layer), we get an abstract description of the input images, which we then can use as input to a classical dense classifier designed specifically for our task. This process is called **fine-tuning**.\n",
        "\n",
        "For instance, in the following exercise we will take the convolutional block of VGG16, and we will feed its output to a simple binary classifier. This will allow us to train a model for recognizing cats and dogs, using the pre-trained VGG16 as feature extractor for a simpler network that is significantly less expensive to train than the whole VGG16. \n",
        "\n",
        "----\n",
        "\n",
        "For this exercise, we will see some more sophisticated Keras utils for automating the process of loading images from disk. We will also see how we can **augment** our dataset by transforming our images to obtain more variety in the data (e.g., we can flip all images horizontally).\n",
        "\n",
        "Let's start, as always, from the data. \n",
        "We've uploaded a reduced version of [this dataset](https://www.kaggle.com/c/dogs-vs-cats/data) to a SwitchDrive account, and we can download it directly into Colab by using `wget`.\n",
        "\n",
        "The data will be divided in folders as follows: \n",
        "\n",
        "```\n",
        "data/\n",
        " |__train/\n",
        "     |__cats/  # 1000 images\n",
        "     |__dogs/  # 1000 images\n",
        " |__val/\n",
        "     |__cats/  # 500 images\n",
        "     |__dogs/  # 500 images\n",
        " |__test/\n",
        "     |__cats/  # 500 images\n",
        "     |__dogs/  # 500 images\n",
        "```\n",
        "Note that labels are inherently provided by the folder structure."
      ]
    },
    {
      "metadata": {
        "id": "b5fznCUPPZ4e",
        "colab_type": "code",
        "colab": {}
      },
      "cell_type": "code",
      "source": [
        "# Download the data\n",
        "!wget https://drive.switch.ch/index.php/s/1YR2C31sSkac3gk/download -O data.zip\n",
        "!unzip data.zip"
      ],
      "execution_count": 0,
      "outputs": []
    },
    {
      "metadata": {
        "id": "o6SckCPuPikd",
        "colab_type": "text"
      },
      "cell_type": "markdown",
      "source": [
        "We can use Keras' `ImageDataGenerator` class to create an object that will allow us to do several things:\n",
        "\n",
        "1. Read the images from the folders in batches, without keeping the whole dataset in memory;\n",
        "2. Automatically resize, rotate, shift, shear, zoom, and flip the images for us in order to perform data augmentation;\n",
        "3. Automatically create label vectors from the folder structure.\n",
        "\n",
        "See [here](https://keras.io/preprocessing/image/#imagedatagenerator-class) for all possible options for image augmentation."
      ]
    },
    {
      "metadata": {
        "id": "tbxZPPMwQEDa",
        "colab_type": "code",
        "colab": {}
      },
      "cell_type": "code",
      "source": [
        ""
      ],
      "execution_count": 0,
      "outputs": []
    },
    {
      "metadata": {
        "id": "igoHF6l1R1_a",
        "colab_type": "text"
      },
      "cell_type": "markdown",
      "source": [
        "The VGG16 network architecture and weights [can be easily found online](https://gist.github.com/baraldilorenzo/07d7802847aaad0a35d3), but because it's so popular, it is also included by default in Keras. "
      ]
    },
    {
      "metadata": {
        "id": "yBwLZCgOSMEH",
        "colab_type": "code",
        "colab": {}
      },
      "cell_type": "code",
      "source": [
        ""
      ],
      "execution_count": 0,
      "outputs": []
    },
    {
      "metadata": {
        "id": "jz9U6J-HSReU",
        "colab_type": "text"
      },
      "cell_type": "markdown",
      "source": [
        "We can now use the convolutional part of VGG16 as if it were any other `keras.Layer` (in fact, `keras.Model` inherits from `keras.Layer`). Note that in the last line of code of the previous block, we set the loaded VGG16 model as not trainable. This means that the weights of VGG16 will not be updated during backpropagation (the network is still differentiable, but we do not take the gradient w.r.t. those weights).\n",
        "\n",
        "Let's build a classifier based on the pre-trained VGG16: "
      ]
    },
    {
      "metadata": {
        "id": "rEuGzid_Srd9",
        "colab_type": "code",
        "colab": {}
      },
      "cell_type": "code",
      "source": [
        ""
      ],
      "execution_count": 0,
      "outputs": []
    },
    {
      "metadata": {
        "id": "WgOSEFjxTQg5",
        "colab_type": "text"
      },
      "cell_type": "markdown",
      "source": [
        "And now we train it as usual, except that this time we use the `fit_generator` method of `Model`, and the `generator` object created by `ImageDataGenerator`."
      ]
    },
    {
      "metadata": {
        "id": "Tk1_gsI0TUGK",
        "colab_type": "code",
        "colab": {}
      },
      "cell_type": "code",
      "source": [
        ""
      ],
      "execution_count": 0,
      "outputs": []
    },
    {
      "metadata": {
        "id": "GB_OeBU4VMEe",
        "colab_type": "text"
      },
      "cell_type": "markdown",
      "source": [
        "**Fun fact**: when the \"Cats vs. Dogs\" challenge was first released on Kaggle in 2014, computer vision experts posited that a classifier with better than 60% accuracy would be difficult to achieve without a major advance in the state of the art [[source]](https://www.kaggle.com/c/dogs-vs-cats/overview).\n",
        "\n",
        "As a final step, we can also use the model to classify a single test image as follows:"
      ]
    },
    {
      "metadata": {
        "id": "FEatX63cXRJh",
        "colab_type": "code",
        "colab": {}
      },
      "cell_type": "code",
      "source": [
        ""
      ],
      "execution_count": 0,
      "outputs": []
    }
  ]
}