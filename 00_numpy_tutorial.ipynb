{
  "nbformat": 4,
  "nbformat_minor": 0,
  "metadata": {
    "colab": {
      "name": "00_numpy_tutorial.ipynb",
      "version": "0.3.2",
      "provenance": [],
      "include_colab_link": true
    },
    "kernelspec": {
      "display_name": "Python 3",
      "language": "python",
      "name": "python3"
    }
  },
  "cells": [
    {
      "cell_type": "markdown",
      "metadata": {
        "id": "view-in-github",
        "colab_type": "text"
      },
      "source": [
        "<a href=\"https://colab.research.google.com/github/danielegrattarola/ml-18-19/blob/master/00_numpy_tutorial.ipynb\" target=\"_parent\"><img src=\"https://colab.research.google.com/assets/colab-badge.svg\" alt=\"Open In Colab\"/></a>"
      ]
    },
    {
      "metadata": {
        "id": "rQjgtDHESVru",
        "colab_type": "text"
      },
      "cell_type": "markdown",
      "source": [
        "## Intro\n",
        "The main library that we are going to use in the course is called Numpy, which the most popular Python library for scientific computing and array manipulation.   \n",
        "This notebook contains a primer on how to use some basic functions of Numpy."
      ]
    },
    {
      "metadata": {
        "id": "HMIpdm4kRWb0",
        "colab_type": "code",
        "colab": {}
      },
      "cell_type": "code",
      "source": [
        "import numpy as np"
      ],
      "execution_count": 0,
      "outputs": []
    },
    {
      "metadata": {
        "id": "5DWwQO0HRWb3",
        "colab_type": "text"
      },
      "cell_type": "markdown",
      "source": [
        "## Arrays\n",
        "\n",
        "The building block of numpy is the `ndarray`,  short for \"n-dimensional array\". Arrays in Numpy are objects with three main properties: \n",
        "1. data\n",
        "2. shape\n",
        "3. data type\n",
        "\n",
        "To create an array, we use the `np.array` constructor. "
      ]
    },
    {
      "metadata": {
        "id": "ZJbIb7H6RWb4",
        "colab_type": "code",
        "colab": {
          "base_uri": "https://localhost:8080/",
          "height": 71
        },
        "outputId": "61f0b237-0e58-4f3a-ac5c-3a6b8a0d4601"
      },
      "cell_type": "code",
      "source": [
        "a = np.array([1, 2, 3])\n",
        "\n",
        "print('Data:  ', a)\n",
        "print('Shape: ', a.shape)\n",
        "print('Type:  ', a.dtype)"
      ],
      "execution_count": 143,
      "outputs": [
        {
          "output_type": "stream",
          "text": [
            "Data:   [1 2 3]\n",
            "Shape:  (3,)\n",
            "Type:   int64\n"
          ],
          "name": "stdout"
        }
      ]
    },
    {
      "metadata": {
        "id": "k_44YZSGV_Tn",
        "colab_type": "text"
      },
      "cell_type": "markdown",
      "source": [
        "We can also create arrays with a higher number of dimensions. An array with shape `(n, m)` is represented in classical notation with $\\mathbb{R}^{n \\times m}$."
      ]
    },
    {
      "metadata": {
        "id": "dt-5JWQmRWb8",
        "colab_type": "code",
        "colab": {
          "base_uri": "https://localhost:8080/",
          "height": 107
        },
        "outputId": "ac8f39bb-215a-42ba-c688-2f534b822c9d"
      },
      "cell_type": "code",
      "source": [
        "b = np.array([[1., 2., 3.], \n",
        "              [4., 5., 6.]])\n",
        "\n",
        "print('Data:  ')\n",
        "print(b)\n",
        "print('Shape: ', b.shape)\n",
        "print('Type:  ', b.dtype)"
      ],
      "execution_count": 144,
      "outputs": [
        {
          "output_type": "stream",
          "text": [
            "Data:  \n",
            "[[1. 2. 3.]\n",
            " [4. 5. 6.]]\n",
            "Shape:  (2, 3)\n",
            "Type:   float64\n"
          ],
          "name": "stdout"
        }
      ]
    },
    {
      "metadata": {
        "id": "QzIYlHMXYV2q",
        "colab_type": "text"
      },
      "cell_type": "markdown",
      "source": [
        "Data, shape, and type af an array can be manipulated (obviously, we are mostly interested in manipulating the data, but the other two can be very important)."
      ]
    },
    {
      "metadata": {
        "id": "_mtr6vRsYxIj",
        "colab_type": "code",
        "colab": {
          "base_uri": "https://localhost:8080/",
          "height": 143
        },
        "outputId": "83fd985f-0e10-425e-8556-6a36808ce90f"
      },
      "cell_type": "code",
      "source": [
        "a = np.array([0, 1, 2, 3, 4, 5, 6, 7, 8])\n",
        "print('Original:    ', a)\n",
        "\n",
        "# Edit data\n",
        "a[2] = 9\n",
        "print('Change data: ', a)\n",
        "\n",
        "# Edit shape\n",
        "print('Change shape to (3, 3):')\n",
        "print(a.reshape((3, 3)))\n",
        "\n",
        "# Change type\n",
        "print('Change type: ', a.astype(np.float))"
      ],
      "execution_count": 145,
      "outputs": [
        {
          "output_type": "stream",
          "text": [
            "Original:     [0 1 2 3 4 5 6 7 8]\n",
            "Change data:  [0 1 9 3 4 5 6 7 8]\n",
            "Change shape to (3, 3):\n",
            "[[0 1 9]\n",
            " [3 4 5]\n",
            " [6 7 8]]\n",
            "Change type:  [0. 1. 9. 3. 4. 5. 6. 7. 8.]\n"
          ],
          "name": "stdout"
        }
      ]
    },
    {
      "metadata": {
        "id": "WS6ujOsiuJ2m",
        "colab_type": "text"
      },
      "cell_type": "markdown",
      "source": [
        "Arrays can be accessed like lists, but support an advanced slicing operator that allows for complex behaviours."
      ]
    },
    {
      "metadata": {
        "id": "Jl9qoDXZuWGR",
        "colab_type": "code",
        "colab": {
          "base_uri": "https://localhost:8080/",
          "height": 35
        },
        "outputId": "7309962c-a81f-4301-8579-e710d2212e0b"
      },
      "cell_type": "code",
      "source": [
        "a = np.array([1, 2, 3, 4, 5, 6, 7, 8, 9]).reshape((3, 3))\n",
        "\n",
        "# Access element 0, 0\n",
        "print(a[0, 0])"
      ],
      "execution_count": 146,
      "outputs": [
        {
          "output_type": "stream",
          "text": [
            "1\n"
          ],
          "name": "stdout"
        }
      ]
    },
    {
      "metadata": {
        "id": "J-qQCxBju5YX",
        "colab_type": "code",
        "colab": {
          "base_uri": "https://localhost:8080/",
          "height": 35
        },
        "outputId": "3960a8ed-54f0-4d9d-9383-70e340613e01"
      },
      "cell_type": "code",
      "source": [
        "# Access first row\n",
        "print(a[0])"
      ],
      "execution_count": 147,
      "outputs": [
        {
          "output_type": "stream",
          "text": [
            "[1 2 3]\n"
          ],
          "name": "stdout"
        }
      ]
    },
    {
      "metadata": {
        "id": "KYA5izk-u6oK",
        "colab_type": "code",
        "colab": {
          "base_uri": "https://localhost:8080/",
          "height": 71
        },
        "outputId": "7fc6e488-3500-4c05-86bf-355b6f88b4da"
      },
      "cell_type": "code",
      "source": [
        "# Access first column\n",
        "print(a[:, 0:1])"
      ],
      "execution_count": 166,
      "outputs": [
        {
          "output_type": "stream",
          "text": [
            "[[1]\n",
            " [4]\n",
            " [7]]\n"
          ],
          "name": "stdout"
        }
      ]
    },
    {
      "metadata": {
        "id": "zTUcsC-Mu7tD",
        "colab_type": "code",
        "colab": {
          "base_uri": "https://localhost:8080/",
          "height": 53
        },
        "outputId": "68477bea-2b8e-46df-f8a3-1583ccfe1f73"
      },
      "cell_type": "code",
      "source": [
        "# Access 2 x 2 submatrix\n",
        "print(a[0:2, 0:2])"
      ],
      "execution_count": 149,
      "outputs": [
        {
          "output_type": "stream",
          "text": [
            "[[1 2]\n",
            " [4 5]]\n"
          ],
          "name": "stdout"
        }
      ]
    },
    {
      "metadata": {
        "id": "bmlB1JnFa-H_",
        "colab_type": "text"
      },
      "cell_type": "markdown",
      "source": [
        "## Operations\n",
        "Numpy implements hundreds of useful mathematical operations on and between arrays. \n",
        "\n",
        "### Operations on arrays"
      ]
    },
    {
      "metadata": {
        "id": "T6zhXrkecCYj",
        "colab_type": "code",
        "colab": {
          "base_uri": "https://localhost:8080/",
          "height": 347
        },
        "outputId": "5a9dfaec-e3b9-4a40-fd45-e8d4509c2451"
      },
      "cell_type": "code",
      "source": [
        "import matplotlib.pyplot as plt\n",
        "\n",
        "# Create a sequence of 1000 floats equally spaced between 0 and 2pi\n",
        "x = np.linspace(0, 2 * np.pi, 1000)\n",
        "\n",
        "y = np.sin(x)\n",
        "plt.plot(x, y);"
      ],
      "execution_count": 150,
      "outputs": [
        {
          "output_type": "display_data",
          "data": {
            "image/png": "[encoded data removed]",
            "text/plain": [
              "<Figure size 576x396 with 1 Axes>"
            ]
          },
          "metadata": {
            "tags": []
          }
        }
      ]
    },
    {
      "metadata": {
        "id": "eleIv243c4Ja",
        "colab_type": "code",
        "colab": {
          "base_uri": "https://localhost:8080/",
          "height": 347
        },
        "outputId": "853664d0-a294-4191-c980-01f76c3ef127"
      },
      "cell_type": "code",
      "source": [
        "y = np.exp(x)\n",
        "plt.plot(x, y);"
      ],
      "execution_count": 151,
      "outputs": [
        {
          "output_type": "display_data",
          "data": {
            "image/png": "[encoded data removed]",
            "text/plain": [
              "<Figure size 576x396 with 1 Axes>"
            ]
          },
          "metadata": {
            "tags": []
          }
        }
      ]
    },
    {
      "metadata": {
        "id": "CmJlDJ25dGW6",
        "colab_type": "code",
        "colab": {}
      },
      "cell_type": "code",
      "source": [
        "y = np.square(x)   # Square\n",
        "y = np.sqrt(x)     # Square root\n",
        "y = np.floor(x)    # Flooring\n",
        "y = np.power(x, 3) # Exponentiation\n",
        "y = np.tan(x)      # Tangent\n",
        "y = np.arctan(x)   # Arctangent\n",
        "y = np.tanh(x)     # Hyperbolic tangent"
      ],
      "execution_count": 0,
      "outputs": []
    },
    {
      "metadata": {
        "id": "Tta226gOhSrd",
        "colab_type": "text"
      },
      "cell_type": "markdown",
      "source": [
        "Arrays also support advanced manipulation via a process called **broadcasting**.  \n",
        "The following is a valid expression in Numpy, and gets evaluated at every point in the array x. This concept can also be applied to higher-rank arrays."
      ]
    },
    {
      "metadata": {
        "id": "NQ7zO2D1ik-o",
        "colab_type": "code",
        "colab": {
          "base_uri": "https://localhost:8080/",
          "height": 365
        },
        "outputId": "96176fd1-b875-441c-a606-fba5bdc254d2"
      },
      "cell_type": "code",
      "source": [
        "y = x + 2\n",
        "plt.plot(x, y)"
      ],
      "execution_count": 153,
      "outputs": [
        {
          "output_type": "execute_result",
          "data": {
            "text/plain": [
              "[<matplotlib.lines.Line2D at 0x7f2d385e4390>]"
            ]
          },
          "metadata": {
            "tags": []
          },
          "execution_count": 153
        },
        {
          "output_type": "display_data",
          "data": {
            "image/png": "[encoded data removed]",
            "text/plain": [
              "<Figure size 576x396 with 1 Axes>"
            ]
          },
          "metadata": {
            "tags": []
          }
        }
      ]
    },
    {
      "metadata": {
        "id": "bjd4n5lniz29",
        "colab_type": "text"
      },
      "cell_type": "markdown",
      "source": [
        "This can be extended to arbitrarily complex functions!"
      ]
    },
    {
      "metadata": {
        "id": "Ei-j36uNhgSu",
        "colab_type": "code",
        "colab": {
          "base_uri": "https://localhost:8080/",
          "height": 347
        },
        "outputId": "56fb31ac-0444-4200-8ff0-f4d878db72b2"
      },
      "cell_type": "code",
      "source": [
        "y = np.sin(x ** 2 + 3) + 3 * np.cos(x)\n",
        "plt.plot(x, y);"
      ],
      "execution_count": 154,
      "outputs": [
        {
          "output_type": "display_data",
          "data": {
            "image/png": "[encoded data removed]",
            "text/plain": [
              "<Figure size 576x396 with 1 Axes>"
            ]
          },
          "metadata": {
            "tags": []
          }
        }
      ]
    },
    {
      "metadata": {
        "id": "-mpyU8xgvX3J",
        "colab_type": "text"
      },
      "cell_type": "markdown",
      "source": [
        "### Operations between arrays"
      ]
    },
    {
      "metadata": {
        "id": "nKUKPYXrvaFC",
        "colab_type": "code",
        "colab": {}
      },
      "cell_type": "code",
      "source": [
        "# 1D arrays\n",
        "x = np.arange(9)\n",
        "y = np.arange(9)\n",
        "\n",
        "# 2D arrays\n",
        "v = np.arange(9).reshape((3, 3))\n",
        "w = np.arange(9).reshape((3, 3))\n"
      ],
      "execution_count": 0,
      "outputs": []
    },
    {
      "metadata": {
        "id": "feWvWQnzwVNc",
        "colab_type": "text"
      },
      "cell_type": "markdown",
      "source": [
        "There are several equivalent notations to compute the dot product between arrays in Numpy."
      ]
    },
    {
      "metadata": {
        "id": "pplAIsswvilH",
        "colab_type": "code",
        "colab": {
          "base_uri": "https://localhost:8080/",
          "height": 35
        },
        "outputId": "7771a50a-0107-4d09-ab57-e160d0f9ff59"
      },
      "cell_type": "code",
      "source": [
        "# Dot product\n",
        "xy = np.dot(x, y)\n",
        "xy = x.dot(y)\n",
        "xy = x @ y\n",
        "\n",
        "print(xy)"
      ],
      "execution_count": 156,
      "outputs": [
        {
          "output_type": "stream",
          "text": [
            "204\n"
          ],
          "name": "stdout"
        }
      ]
    },
    {
      "metadata": {
        "id": "-N8dV8MdwmTe",
        "colab_type": "text"
      },
      "cell_type": "markdown",
      "source": [
        "The same can be done for matrices."
      ]
    },
    {
      "metadata": {
        "id": "xIprDvRSv9_F",
        "colab_type": "code",
        "colab": {
          "base_uri": "https://localhost:8080/",
          "height": 71
        },
        "outputId": "7009eaac-3e0a-4075-c735-8d249bef472b"
      },
      "cell_type": "code",
      "source": [
        "# Matrix multiplication between square matrices\n",
        "vw = v @ w\n",
        "print(vw)"
      ],
      "execution_count": 157,
      "outputs": [
        {
          "output_type": "stream",
          "text": [
            "[[ 15  18  21]\n",
            " [ 42  54  66]\n",
            " [ 69  90 111]]\n"
          ],
          "name": "stdout"
        }
      ]
    },
    {
      "metadata": {
        "id": "ACTpSvppxBNK",
        "colab_type": "text"
      },
      "cell_type": "markdown",
      "source": [
        "When multiplying non-square matrices, we have to be sure that their dimensions are aligned properly."
      ]
    },
    {
      "metadata": {
        "id": "uEMGozwMw2I4",
        "colab_type": "code",
        "colab": {}
      },
      "cell_type": "code",
      "source": [
        "# Define two non-square matrices\n",
        "v = np.arange(6).reshape((3, 2))\n",
        "w = np.arange(6).reshape((3, 2))"
      ],
      "execution_count": 0,
      "outputs": []
    },
    {
      "metadata": {
        "id": "L0fM3hA0xSJq",
        "colab_type": "code",
        "colab": {
          "base_uri": "https://localhost:8080/",
          "height": 35
        },
        "outputId": "c868e4ba-0c3b-446b-cde9-8c4be00efdd6"
      },
      "cell_type": "code",
      "source": [
        "# This will crash\n",
        "try:\n",
        "    vw = v @ w\n",
        "except ValueError as e:\n",
        "    print('ValueError:', e)"
      ],
      "execution_count": 164,
      "outputs": [
        {
          "output_type": "stream",
          "text": [
            "ValueError: shapes (3,2) and (3,2) not aligned: 2 (dim 1) != 3 (dim 0)\n"
          ],
          "name": "stdout"
        }
      ]
    },
    {
      "metadata": {
        "id": "GB4mCXkyxTtq",
        "colab_type": "code",
        "colab": {
          "base_uri": "https://localhost:8080/",
          "height": 71
        },
        "outputId": "0b7ad57c-5ebf-4189-8251-6eb39fc4827a"
      },
      "cell_type": "code",
      "source": [
        "# Transpose the second matrix to compute the correct product\n",
        "vw = v @ w.T\n",
        "print(vw)"
      ],
      "execution_count": 160,
      "outputs": [
        {
          "output_type": "stream",
          "text": [
            "[[ 1  3  5]\n",
            " [ 3 13 23]\n",
            " [ 5 23 41]]\n"
          ],
          "name": "stdout"
        }
      ]
    },
    {
      "metadata": {
        "id": "5aP0ls_3_iz_",
        "colab_type": "text"
      },
      "cell_type": "markdown",
      "source": [
        "Note that the usual multiplication opertaror does not work as a dot product, but as an element-wise operator. The same holds for `+`, `-`, and `/`."
      ]
    },
    {
      "metadata": {
        "id": "hc2Nlly0_tNF",
        "colab_type": "code",
        "colab": {
          "base_uri": "https://localhost:8080/",
          "height": 53
        },
        "outputId": "262f800e-f943-41ef-919a-ea2c2985f0cd"
      },
      "cell_type": "code",
      "source": [
        "# Element-wise multiplication\n",
        "v = np.arange(9)\n",
        "w = np.arange(9)\n",
        "print(v + w)\n",
        "print(v * w)"
      ],
      "execution_count": 169,
      "outputs": [
        {
          "output_type": "stream",
          "text": [
            "[ 0  2  4  6  8 10 12 14 16]\n",
            "[ 0  1  4  9 16 25 36 49 64]\n"
          ],
          "name": "stdout"
        }
      ]
    }
  ]
}